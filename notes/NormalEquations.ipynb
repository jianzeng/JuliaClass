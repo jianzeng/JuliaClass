{
 "cells": [
  {
   "cell_type": "markdown",
   "metadata": {},
   "source": [
    "## Constructing Normal Equations \n",
    "\n",
    "Consider the fixed linear model\n",
    "\n",
    "$$\n",
    "\\mathbf{y} = \\mathbf{X\\beta} + \\mathbf{e},\n",
    "$$\n",
    "\n",
    "where $\\mathbf{y}$ is an $n\\times1$ vector of observations, $\\mathbf{X}$ is an $n\\times p$ known matrix, $\\mathbf{\\beta}$ is an $n\\times 1$ vector of fixed effects, and $\\mathbf{e}$ is an $n\\times 1$ vector of residuals that are often assumed to be identically and independently distributed with null mean and variance $\\sigma^2_e$. The normal equations for this model are\n",
    "\n",
    "$$\n",
    "(\\mathbf{X}'\\mathbf{X})\\hat{\\mathbf{\\beta}} = \\mathbf{X}'\\mathbf{y},\n",
    "$$"
   ]
  },
  {
   "cell_type": "markdown",
   "metadata": {},
   "source": [
    "where  $\\mathbf{X'X}$ is $p\\times p$ and  $X'y$ is $p\\times 1$. In animal breeding applications, $p$ may be large, but  $\\mathbf{X'X}$ is often very sparse, i.e., has very few non-zero elements. Efficient algorithms take advantage of this sparse structure to reduce computing time and storage requirements.  We will first consider how to compute a full-stored  $\\mathbf{X'X}$ matrix and $\\mathbf{X'y}$ vector."
   ]
  },
  {
   "cell_type": "markdown",
   "metadata": {},
   "source": [
    "One way to proceed would be to first build $\\mathbf{X}$ and then get $\\mathbf{X'X}$ by matrix multiplication. This, however, is very inefficient both in computational and storage requirements. For example, suppose $n$ is a million and $p$ is a thousand. Then, $\\mathbf{X}$ would have thousand million elements whereas $\\mathbf{X'X}$ has million elements, which is thousand times smaller than $\\mathbf{X}$. Thus, if $\\mathbf{X'X}$ can be computed without first building $\\mathbf{X}$, the storage requirements would be much lower. "
   ]
  },
  {
   "cell_type": "markdown",
   "metadata": {},
   "source": [
    "To see how this can be done, the model for observation $i$ is written as\n",
    "\n",
    "$$\n",
    "y_i = \\mathbf{x}'_i\\mathbf{\\beta} + e_i,\n",
    "$$\n",
    "\n",
    "where $\\mathbf{x}_i'$ denotes row $i$ of $\\mathbf{X}$. Then, $\\mathbf{X'X}$ can be written as"
   ]
  },
  {
   "cell_type": "markdown",
   "metadata": {},
   "source": [
    "$$\n",
    "\\mathbf{X}'\\mathbf{X} = [\\mathbf{x}_1,\\mathbf{x}_2,\\ldots,\\mathbf{x}_n]\n",
    " \\begin{bmatrix}\n",
    "\\mathbf{x}'_1 \\\\\n",
    "\\mathbf{x}'_2 \\\\\n",
    "\\vdots\\\\\n",
    "\\mathbf{x}'_n\n",
    "\\end{bmatrix} \n",
    "= [\\mathbf{x}_1\\mathbf{x}'_1 + \\mathbf{x}'_2\\mathbf{x}_2 + \\cdots +  \\mathbf{x}'_n\\mathbf{x}_n]\n",
    "=  \\sum_{i=1}^n \\mathbf{x}_i\\mathbf{x}'_i.\n",
    "$$"
   ]
  },
  {
   "cell_type": "markdown",
   "metadata": {},
   "source": [
    "Note that the contributions from observation $i$ to $\\mathbf{X'X}$ are the squares and cross products of elements in $\\mathbf{x}_i'$. Thus, once the contributions from the current observation to $\\mathbf{X'X}$ are processed, $\\mathbf{x}_i'$ can be reused for the next observation. So, now the storage requirement is $p \\times(p + 1)$ elements compared to $p^2 + np$, which is a significant difference when $n$ is much larger than $p$."
   ]
  },
  {
   "cell_type": "markdown",
   "metadata": {},
   "source": [
    "The number of non-zero elements in $\\mathbf{x}_i'$ is often much lower than $p$. In the one-way model\n",
    "\n",
    "$$\n",
    "y_i = \\mu + \\alpha_i + e_i,\n",
    "$$\n",
    "for example,  $\\mathbf{x}_i'$ contains only two non-zeros. Taking advantage of this, the number of multiplications and additions per observation would go from $p^2$ to four. \n",
    "\n",
    "Similarly, $\\mathbf{X'y}'$ can be written as\n",
    "\n",
    "$$\n",
    "\\mathbf{X}'\\mathbf{y} = [\\mathbf{x}_1,\\mathbf{x}_2,\\ldots,\\mathbf{x}_n]\n",
    " \\begin{bmatrix}\n",
    "y_1 \\\\\n",
    "y_2 \\\\\n",
    "\\vdots\\\\\n",
    "y_n\n",
    "\\end{bmatrix} \n",
    "= [\\mathbf{x}_1 y_1 + \\mathbf{x}'_2 y_2 + \\cdots +  \\mathbf{x}'_n y_n]\n",
    "=  \\sum_{i=1}^n \\mathbf{x}_i y_i.\n",
    "$$\n",
    "\n",
    "Next, we will look more closely at the one-way model and write a simple program for constructing the normal equations for this model."
   ]
  },
  {
   "cell_type": "markdown",
   "metadata": {},
   "source": [
    "[Next](OneWay.ipynb)"
   ]
  }
 ],
 "metadata": {
  "kernelspec": {
   "display_name": "Julia 0.3.7",
   "language": "julia",
   "name": "julia 0.3"
  },
  "language_info": {
   "name": "julia",
   "version": "0.3.7"
  }
 },
 "nbformat": 4,
 "nbformat_minor": 0
}
