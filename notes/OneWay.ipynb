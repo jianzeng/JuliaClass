{
 "cells": [
  {
   "cell_type": "markdown",
   "metadata": {},
   "source": [
    "## One-Way Model"
   ]
  },
  {
   "cell_type": "markdown",
   "metadata": {},
   "source": [
    "Consider the following data from a hypothetical one-way experiment with four levels of a treatment."
   ]
  },
  {
   "cell_type": "markdown",
   "metadata": {},
   "source": [
    "### Data"
   ]
  },
  {
   "cell_type": "code",
   "execution_count": 5,
   "metadata": {
    "collapsed": true
   },
   "outputs": [],
   "source": [
    "using DataFrames"
   ]
  },
  {
   "cell_type": "code",
   "execution_count": 9,
   "metadata": {
    "collapsed": false
   },
   "outputs": [
    {
     "data": {
      "text/html": [
       "<table class=\"data-frame\"><tr><th></th><th>A</th><th>y</th></tr><tr><th>1</th><td>1</td><td>1.1</td></tr><tr><th>2</th><td>1</td><td>1.2</td></tr><tr><th>3</th><td>2</td><td>1.9</td></tr><tr><th>4</th><td>2</td><td>1.2</td></tr><tr><th>5</th><td>2</td><td>2.0</td></tr><tr><th>6</th><td>2</td><td>1.7</td></tr><tr><th>7</th><td>3</td><td>1.0</td></tr><tr><th>8</th><td>3</td><td>1.7</td></tr><tr><th>9</th><td>4</td><td>1.1</td></tr><tr><th>10</th><td>1</td><td>1.7</td></tr></table>"
      ],
      "text/plain": [
       "10x2 DataFrame\n",
       "| Row | A | y   |\n",
       "|-----|---|-----|\n",
       "| 1   | 1 | 1.1 |\n",
       "| 2   | 1 | 1.2 |\n",
       "| 3   | 2 | 1.9 |\n",
       "| 4   | 2 | 1.2 |\n",
       "| 5   | 2 | 2.0 |\n",
       "| 6   | 2 | 1.7 |\n",
       "| 7   | 3 | 1.0 |\n",
       "| 8   | 3 | 1.7 |\n",
       "| 9   | 4 | 1.1 |\n",
       "| 10  | 1 | 1.7 |"
      ]
     },
     "execution_count": 9,
     "metadata": {},
     "output_type": "execute_result"
    }
   ],
   "source": [
    "df = readtable(\"OneWay.dat\", separator = ' ')"
   ]
  },
  {
   "cell_type": "markdown",
   "metadata": {},
   "source": [
    "The $\\mathbf{X}$ matrix for the one way model\n",
    "\n",
    "$$\n",
    "y_{ij} = \\mu + \\alpha_i + e_{ij}\n",
    "$$\n",
    "\n",
    "is\n",
    "\n",
    "$$\n",
    "\\mathbf{X} = \n",
    "\\begin{bmatrix}\n",
    "1 & 1 & 0 & 0 & 0 \\\\\n",
    "1 & 1 & 0 & 0 & 0 \\\\\n",
    "1 & 0 & 1 & 0 & 0 \\\\\n",
    "1 & 0 & 1 & 0 & 0 \\\\\n",
    "1 & 0 & 1 & 0 & 0 \\\\\n",
    "1 & 0 & 1 & 0 & 0 \\\\\n",
    "1 & 0 & 0 & 1 & 0 \\\\\n",
    "1 & 0 & 0 & 1 & 0 \\\\\n",
    "1 & 0 & 0 & 0 & 1 \\\\\n",
    "1 & 1 & 0 & 0 & 0 \\\\\n",
    "\\end{bmatrix}\n",
    "$$\n"
   ]
  },
  {
   "cell_type": "markdown",
   "metadata": {},
   "source": [
    "Note that any row of $\\mathbf{X}$ contains only two non-zero elements. These correspond to $\\mu$ and $\\alpha_i$ in the model. Recall that $\\mathbf{x}_i$ denotes row $i$ of $\\mathbf{X}$. The first element of $\\mathbf{x}_i$ corresponds to $\\mu$. Thus, all $\\mathbf{x}_i$ will contain a \"1\" in this position. The second element of $\\mathbf{x}_i$ corresponds to $\\alpha_1$. Thus, $\\mathbf{x}_1$, $\\mathbf{x}_2$ and $\\mathbf{x}_{10}$ contain a \"1\" in this position because observations 1, 2 and 10 are from treatment 1. So, the contribution from the first observation, for example,  to the $\\mathbf{X'X}$ matrix is"
   ]
  },
  {
   "cell_type": "markdown",
   "metadata": {},
   "source": [
    "$$\n",
    "\\mathbf{x}_1\\mathbf{x}'_1 = \n",
    "\\begin{bmatrix}\n",
    "1 \\\\\n",
    "1 \\\\\n",
    "0 \\\\\n",
    "0 \\\\\n",
    "0\n",
    "\\end{bmatrix} \n",
    "\\begin{bmatrix}\n",
    "1 & 1 & 0 & 0 & 0 \n",
    "\\end{bmatrix} = \n",
    "\\begin{bmatrix}\n",
    "1 & 1 & 0 & 0 & 0 \\\\\n",
    "1 & 1 & 0 & 0 & 0 \\\\\n",
    "0 & 0 & 0 & 0 & 0 \\\\\n",
    "0 & 0 & 0 & 0 & 0 \\\\\n",
    "0 & 0 & 0 & 0 & 0 \n",
    "\\end{bmatrix}\n",
    "$$"
   ]
  },
  {
   "cell_type": "markdown",
   "metadata": {},
   "source": [
    "The contributions from observations 2 and 10 would be identical to this because $\\mathbf{x}_2$ and $\\mathbf{x}_{10}$ are identical to $\\mathbf{x}_1$. In general, set posmu = 1, which is the column position of the \"1\" in any $\\mathbf{x}_i'$ corresponding to μ, and set posA equal to the column position for the \"1\" in any $\\mathbf{x}_i'$ corresponding to $α_i$. Then, the positions of the contributions to $\\mathbf{X'X}$ from any observations are: (posmu,posmu), (posmu,posA), (posA,posmu) and (posA,posA). Further, in the one-way model, the contribution to each of these positions is a \"1\". So, $\\mathbf{X'X}$ can be constructed efficiently by setting postrt = 1 + A, where A is the level of the factor A for observation $i$, and adding \"1\" to positions (posmu,posmu), (posmu,posA), (posA,posmu) and (posA,posA) in $\\mathbf{X'X}$ for each observation in the data file. Similarly, $\\mathbf{X'y}$ can be constructed efficiently by adding $\\mathbf{y}_i$ to positions posmu and posA in $\\mathbf{X'y}$. This strategy is used in the program given below."
   ]
  },
  {
   "cell_type": "code",
   "execution_count": 16,
   "metadata": {
    "collapsed": false
   },
   "outputs": [
    {
     "data": {
      "text/plain": [
       "4-element DataArray{Int64,1}:\n",
       " 1\n",
       " 2\n",
       " 3\n",
       " 4"
      ]
     },
     "execution_count": 16,
     "metadata": {},
     "output_type": "execute_result"
    }
   ],
   "source": [
    "unique(df[:A])"
   ]
  },
  {
   "cell_type": "code",
   "execution_count": 24,
   "metadata": {
    "collapsed": false
   },
   "outputs": [],
   "source": [
    "levelsA = length(unique(df[:A]))\n",
    "p = levelsA + 1\n",
    "XPX = fill(0.0,p,p)\n",
    "xpy = fill(0.0,p);"
   ]
  },
  {
   "cell_type": "code",
   "execution_count": 26,
   "metadata": {
    "collapsed": false
   },
   "outputs": [],
   "source": [
    "for i in 1:size(df,1)\n",
    "    posMu = 1\n",
    "    posA  = 1 + df[i,:A]\n",
    "    y     = df[i,:y]\n",
    "    XPX[posMu,posMu] += 1.0\n",
    "    XPX[posMu,posA]  += 1.0\n",
    "    XPX[posA,posMu]  += 1.0\n",
    "    XPX[posA,posA]   += 1.0\n",
    "    xpy[posMu]  += y\n",
    "    xpy[posA]   += y   \n",
    "end"
   ]
  },
  {
   "cell_type": "code",
   "execution_count": 27,
   "metadata": {
    "collapsed": false
   },
   "outputs": [
    {
     "data": {
      "text/plain": [
       "5x5 Array{Float64,2}:\n",
       " 10.0  3.0  4.0  2.0  1.0\n",
       "  3.0  3.0  0.0  0.0  0.0\n",
       "  4.0  0.0  4.0  0.0  0.0\n",
       "  2.0  0.0  0.0  2.0  0.0\n",
       "  1.0  0.0  0.0  0.0  1.0"
      ]
     },
     "execution_count": 27,
     "metadata": {},
     "output_type": "execute_result"
    }
   ],
   "source": [
    "XPX"
   ]
  },
  {
   "cell_type": "code",
   "execution_count": 28,
   "metadata": {
    "collapsed": false
   },
   "outputs": [
    {
     "data": {
      "text/plain": [
       "5-element Array{Float64,1}:\n",
       " 14.6\n",
       "  4.0\n",
       "  6.8\n",
       "  2.7\n",
       "  1.1"
      ]
     },
     "execution_count": 28,
     "metadata": {},
     "output_type": "execute_result"
    }
   ],
   "source": [
    "xpy"
   ]
  },
  {
   "cell_type": "code",
   "execution_count": 30,
   "metadata": {
    "collapsed": false
   },
   "outputs": [
    {
     "data": {
      "text/plain": [
       "5-element Array{Float64,1}:\n",
       "  1.825   \n",
       " -0.491667\n",
       " -0.125   \n",
       " -0.475   \n",
       " -0.725   "
      ]
     },
     "execution_count": 30,
     "metadata": {},
     "output_type": "execute_result"
    }
   ],
   "source": [
    "sol = XPX\\xpy"
   ]
  },
  {
   "cell_type": "code",
   "execution_count": 31,
   "metadata": {
    "collapsed": false
   },
   "outputs": [
    {
     "data": {
      "text/plain": [
       "5-element Array{Float64,1}:\n",
       " 14.6\n",
       "  4.0\n",
       "  6.8\n",
       "  2.7\n",
       "  1.1"
      ]
     },
     "execution_count": 31,
     "metadata": {},
     "output_type": "execute_result"
    }
   ],
   "source": [
    "XPX*sol"
   ]
  },
  {
   "cell_type": "markdown",
   "metadata": {},
   "source": [
    "### Big Example"
   ]
  },
  {
   "cell_type": "code",
   "execution_count": 2,
   "metadata": {
    "collapsed": true
   },
   "outputs": [],
   "source": [
    "using Distributions"
   ]
  },
  {
   "cell_type": "code",
   "execution_count": 3,
   "metadata": {
    "collapsed": false
   },
   "outputs": [
    {
     "data": {
      "text/plain": [
       "1000-element Array{Float64,1}:\n",
       "  0.771088  \n",
       " -0.768169  \n",
       " -0.229875  \n",
       "  0.810242  \n",
       " -0.755578  \n",
       "  0.99613   \n",
       " -0.434852  \n",
       " -0.00130044\n",
       "  0.672709  \n",
       " -1.27074   \n",
       " -0.351976  \n",
       "  0.492983  \n",
       " -1.12096   \n",
       "  ⋮         \n",
       "  2.07372   \n",
       "  0.0356874 \n",
       "  0.270933  \n",
       " -1.22772   \n",
       " -1.74495   \n",
       " -0.169936  \n",
       "  3.03505   \n",
       " -1.50884   \n",
       "  0.487526  \n",
       "  0.66916   \n",
       "  0.0183102 \n",
       "  0.423132  "
      ]
     },
     "execution_count": 3,
     "metadata": {},
     "output_type": "execute_result"
    }
   ],
   "source": [
    "n = 1000000\n",
    "p = 1000\n",
    "A = sample([1:p],n)\n",
    "α = randn(p)"
   ]
  },
  {
   "cell_type": "code",
   "execution_count": 20,
   "metadata": {
    "collapsed": false
   },
   "outputs": [
    {
     "name": "stdout",
     "output_type": "stream",
     "text": [
      "elapsed time: 1.358786922 seconds (191812400 bytes allocated, 57.09% gc time)\n"
     ]
    },
    {
     "data": {
      "text/plain": [
       "1000000-element Array{Any,1}:\n",
       " -0.299258 \n",
       "  1.52664  \n",
       "  0.545609 \n",
       " -1.15283  \n",
       "  0.947171 \n",
       " -0.519601 \n",
       " -0.676542 \n",
       "  0.0743368\n",
       "  1.58203  \n",
       " -0.473005 \n",
       " -0.722046 \n",
       "  0.421723 \n",
       "  1.04511  \n",
       "  ⋮        \n",
       "  0.151433 \n",
       "  1.34349  \n",
       "  0.394276 \n",
       " -0.370691 \n",
       "  0.754147 \n",
       "  0.748828 \n",
       " -1.28984  \n",
       "  1.26725  \n",
       " -0.422409 \n",
       "  0.345472 \n",
       " -0.169039 \n",
       "  0.0585502"
      ]
     },
     "execution_count": 20,
     "metadata": {},
     "output_type": "execute_result"
    }
   ],
   "source": [
    "@time y = [α[i] for i in A]"
   ]
  },
  {
   "cell_type": "code",
   "execution_count": 7,
   "metadata": {
    "collapsed": true
   },
   "outputs": [],
   "source": [
    "X = fill(0.0,(n,p));"
   ]
  },
  {
   "cell_type": "code",
   "execution_count": 21,
   "metadata": {
    "collapsed": false
   },
   "outputs": [
    {
     "name": "stdout",
     "output_type": "stream",
     "text": [
      "elapsed time: 0.666400509 seconds (71820504 bytes allocated, 60.23% gc time)\n"
     ]
    }
   ],
   "source": [
    "@time for i = 1:n\n",
    "    j = A[i]\n",
    "    X[i,j] = 1.0\n",
    "end"
   ]
  },
  {
   "cell_type": "code",
   "execution_count": 17,
   "metadata": {
    "collapsed": false
   },
   "outputs": [
    {
     "name": "stdout",
     "output_type": "stream",
     "text": [
      "elapsed time: 0.582151261 seconds (8000168 bytes allocated)\n"
     ]
    },
    {
     "data": {
      "text/plain": [
       "1000000-element Array{Float64,1}:\n",
       " -0.299258 \n",
       "  1.52664  \n",
       "  0.545609 \n",
       " -1.15283  \n",
       "  0.947171 \n",
       " -0.519601 \n",
       " -0.676542 \n",
       "  0.0743368\n",
       "  1.58203  \n",
       " -0.473005 \n",
       " -0.722046 \n",
       "  0.421723 \n",
       "  1.04511  \n",
       "  ⋮        \n",
       "  0.151433 \n",
       "  1.34349  \n",
       "  0.394276 \n",
       " -0.370691 \n",
       "  0.754147 \n",
       "  0.748828 \n",
       " -1.28984  \n",
       "  1.26725  \n",
       " -0.422409 \n",
       "  0.345472 \n",
       " -0.169039 \n",
       "  0.0585502"
      ]
     },
     "execution_count": 17,
     "metadata": {},
     "output_type": "execute_result"
    }
   ],
   "source": [
    "@time X*α"
   ]
  },
  {
   "cell_type": "code",
   "execution_count": 53,
   "metadata": {
    "collapsed": false
   },
   "outputs": [
    {
     "name": "stdout",
     "output_type": "stream",
     "text": [
      "elapsed time: 12.447007077 seconds (8000192 bytes allocated)\n"
     ]
    }
   ],
   "source": [
    "@time XPX = X'X;"
   ]
  },
  {
   "cell_type": "code",
   "execution_count": 45,
   "metadata": {
    "collapsed": false
   },
   "outputs": [],
   "source": [
    "XPX = fill(0.0,p,p);"
   ]
  },
  {
   "cell_type": "code",
   "execution_count": 54,
   "metadata": {
    "collapsed": false
   },
   "outputs": [
    {
     "name": "stdout",
     "output_type": "stream",
     "text": [
      "elapsed time: 0.415923771 seconds (103814168 bytes allocated, 24.05% gc time)\n"
     ]
    }
   ],
   "source": [
    "@time for i in 1:size(A,1)\n",
    "    posA  = A[i]\n",
    "    XPX[posA,posA]   += 1.0\n",
    "end"
   ]
  },
  {
   "cell_type": "code",
   "execution_count": 55,
   "metadata": {
    "collapsed": false
   },
   "outputs": [
    {
     "data": {
      "text/plain": [
       "30.34146341463415"
      ]
     },
     "execution_count": 55,
     "metadata": {},
     "output_type": "execute_result"
    }
   ],
   "source": [
    "12.44/0.41"
   ]
  },
  {
   "cell_type": "code",
   "execution_count": 66,
   "metadata": {
    "collapsed": false
   },
   "outputs": [
    {
     "data": {
      "text/plain": [
       "1000000x1000 sparse matrix with 0 Float64 entries:"
      ]
     },
     "execution_count": 66,
     "metadata": {},
     "output_type": "execute_result"
    }
   ],
   "source": [
    "X = spzeros(n,p)"
   ]
  },
  {
   "cell_type": "code",
   "execution_count": 67,
   "metadata": {
    "collapsed": false
   },
   "outputs": [
    {
     "name": "stdout",
     "output_type": "stream",
     "text": [
      "elapsed time: 121.275692422 seconds (105370488 bytes allocated, 0.08% gc time)\n"
     ]
    }
   ],
   "source": [
    "@time for i = 1:n\n",
    "    j = A[i]\n",
    "    X[i,j] = 1.0\n",
    "end"
   ]
  },
  {
   "cell_type": "code",
   "execution_count": 59,
   "metadata": {
    "collapsed": false
   },
   "outputs": [
    {
     "name": "stdout",
     "output_type": "stream",
     "text": [
      "elapsed time: 0.314603229 seconds (56073456 bytes allocated, 17.31% gc time)\n"
     ]
    }
   ],
   "source": [
    "@time XPX = X'X;"
   ]
  },
  {
   "cell_type": "code",
   "execution_count": 68,
   "metadata": {
    "collapsed": false
   },
   "outputs": [
    {
     "data": {
      "text/plain": [
       "1000x1000 sparse matrix with 1000 Float64 entries:\n",
       "\t[1   ,    1]  =  1036.0\n",
       "\t[2   ,    2]  =  994.0\n",
       "\t[3   ,    3]  =  1023.0\n",
       "\t[4   ,    4]  =  968.0\n",
       "\t[5   ,    5]  =  971.0\n",
       "\t[6   ,    6]  =  1050.0\n",
       "\t[7   ,    7]  =  1085.0\n",
       "\t[8   ,    8]  =  1046.0\n",
       "\t[9   ,    9]  =  986.0\n",
       "\t[10  ,   10]  =  1030.0\n",
       "\t⋮\n",
       "\t[990 ,  990]  =  989.0\n",
       "\t[991 ,  991]  =  966.0\n",
       "\t[992 ,  992]  =  1031.0\n",
       "\t[993 ,  993]  =  1021.0\n",
       "\t[994 ,  994]  =  967.0\n",
       "\t[995 ,  995]  =  1020.0\n",
       "\t[996 ,  996]  =  993.0\n",
       "\t[997 ,  997]  =  1000.0\n",
       "\t[998 ,  998]  =  1010.0\n",
       "\t[999 ,  999]  =  1033.0\n",
       "\t[1000, 1000]  =  988.0"
      ]
     },
     "execution_count": 68,
     "metadata": {},
     "output_type": "execute_result"
    }
   ],
   "source": [
    "XPX"
   ]
  }
 ],
 "metadata": {
  "kernelspec": {
   "display_name": "Julia 0.3.7",
   "language": "julia",
   "name": "julia 0.3"
  },
  "language_info": {
   "name": "julia",
   "version": "0.3.7"
  }
 },
 "nbformat": 4,
 "nbformat_minor": 0
}
